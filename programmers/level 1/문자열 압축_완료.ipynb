{
 "cells": [
  {
   "cell_type": "code",
   "execution_count": 64,
   "metadata": {},
   "outputs": [],
   "source": [
    "def solution(s):\n",
    "    # 단위별로 자르면서 문자열 만들고 갯수 세보기\n",
    "    # 문자열 길이가 짧은 것 리턴\n",
    "    \n",
    "    def pop_value(ls, length):\n",
    "        for i in range(length):\n",
    "            ls.pop(0)\n",
    "        return ls\n",
    "    \n",
    "    min_s = s\n",
    "    answer = len(s)\n",
    "    for length in range(1, len(s)+1):\n",
    "        word_ls = list(s)\n",
    "        compa = word_ls[:length]\n",
    "        \n",
    "        word_ls = pop_value(word_ls, length=length)\n",
    "        tmp_s = \"\"\n",
    "        cnt = 1\n",
    "        while len(word_ls) != 0:\n",
    "            \n",
    "            try:\n",
    "                if compa == word_ls[:length]:\n",
    "                    cnt += 1\n",
    "                else:\n",
    "                    if cnt == 1:\n",
    "                        tmp_s += \"\".join(compa)\n",
    "                    else:\n",
    "                        tmp_s += str(cnt) + \"\".join(compa)\n",
    "                    \n",
    "                    compa = word_ls[:length]\n",
    "                    cnt = 1\n",
    "                \n",
    "                word_ls = pop_value(word_ls, length=length)\n",
    "            except:\n",
    "                break\n",
    "\n",
    "        if len(word_ls) == 0:\n",
    "            if cnt == 1:\n",
    "                tmp_s += \"\".join(compa)\n",
    "            else:\n",
    "                tmp_s += str(cnt) + \"\".join(compa)\n",
    "        else:\n",
    "            tmp_s += \"\".join(word_ls)\n",
    "        \n",
    "        print(tmp_s)\n",
    "        if len(min_s) > len(tmp_s):\n",
    "            answer = len(tmp_s)\n",
    "            min_s = tmp_s\n",
    "    return answer"
   ]
  },
  {
   "cell_type": "code",
   "execution_count": null,
   "metadata": {},
   "outputs": [],
   "source": []
  }
 ],
 "metadata": {
  "kernelspec": {
   "display_name": "Python 3",
   "language": "python",
   "name": "python3"
  },
  "language_info": {
   "codemirror_mode": {
    "name": "ipython",
    "version": 3
   },
   "file_extension": ".py",
   "mimetype": "text/x-python",
   "name": "python",
   "nbconvert_exporter": "python",
   "pygments_lexer": "ipython3",
   "version": "3.7.4"
  }
 },
 "nbformat": 4,
 "nbformat_minor": 2
}
